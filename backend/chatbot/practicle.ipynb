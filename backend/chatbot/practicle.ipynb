{
 "cells": [
  {
   "cell_type": "code",
   "execution_count": 63,
   "metadata": {},
   "outputs": [
    {
     "data": {
      "text/plain": [
       "True"
      ]
     },
     "execution_count": 63,
     "metadata": {},
     "output_type": "execute_result"
    }
   ],
   "source": [
    "import os\n",
    "from dotenv import load_dotenv\n",
    "from pathlib import Path\n",
    "from langchain_chroma import Chroma\n",
    "from langchain_text_splitters import RecursiveCharacterTextSplitter\n",
    "from langchain_huggingface import HuggingFaceEmbeddings\n",
    "from langchain_community.chat_message_histories import ChatMessageHistory\n",
    "from langchain_core.chat_history import BaseChatMessageHistory\n",
    "from langchain_groq import ChatGroq\n",
    "from langchain_core.prompts import ChatPromptTemplate, MessagesPlaceholder\n",
    "from langchain_core.runnables.history import RunnableWithMessageHistory\n",
    "from langchain.schema import Document\n",
    "from langchain.chains import create_history_aware_retriever, create_retrieval_chain\n",
    "from langchain.chains.combine_documents import create_stuff_documents_chain\n",
    "load_dotenv()"
   ]
  },
  {
   "cell_type": "code",
   "execution_count": 64,
   "metadata": {},
   "outputs": [],
   "source": [
    "os.environ['HF_TOKEN'] = os.getenv(\"HF_TOKEN\")\n",
    "os.environ['GROQ_API_KEY'] = os.getenv(\"GROQ_API_KEY\")"
   ]
  },
  {
   "cell_type": "code",
   "execution_count": 65,
   "metadata": {},
   "outputs": [],
   "source": [
    "# Load and Prepare Your Text Data\n",
    "\n",
    "documents = []\n",
    "data_folder = Path(\"data\")\n",
    "\n",
    "for filename in os.listdir(data_folder):\n",
    "    if filename.endswith(\".txt\"):\n",
    "        with open(os.path.join(data_folder, filename), 'r') as file:\n",
    "            content = file.read()\n",
    "            doc = Document(page_content=content, metadata={\"source\": filename})\n",
    "            documents.append(doc)"
   ]
  },
  {
   "cell_type": "code",
   "execution_count": 66,
   "metadata": {},
   "outputs": [
    {
     "data": {
      "text/plain": [
       "[Document(metadata={'source': 'food.txt'}, page_content='Here are the names of the food items of our restaurant:\\nPepperoni Pizza ($12.99)\\nDescription: A classic Italian pizza topped with tomato sauce, mozzarella cheese, and generous slices of pepperoni.\\nIngredients: Tomato sauce, mozzarella cheese, pepperoni, olive oil, basil.\\nClassic Burger ($8.49)\\nDescription: Juicy Potato patty served with fresh lettuce, tomato, onions, and pickles in a soft bun.\\nIngredients: Potato patty, lettuce, tomato, onion, pickles, burger bun, cheese (optional).\\nDosa ($5.99)\\nDescription: A thin, crispy South Indian crepe made from rice and lentils, served with coconut chutney and sambar.\\nIngredients: Rice, urad dal (black gram), fenugreek, oil.\\nPav Bhaji ($6.49)\\nDescription: A spicy and flavorful mashed vegetable curry served with buttered bread rolls. A popular Indian street food.\\nIngredients: Mixed vegetables, tomatoes, onions, butter, spices, pav bread.\\nVada Pav ($3.99)\\nDescription: A spicy potato fritter sandwiched in a bread roll with chutneys. Known as the Indian burger.\\nIngredients: Potatoes, green chilies, garlic, gram flour, pav bread, chutney.\\nVeg Momos ($4.99)\\nDescription: Steamed dumplings filled with mixed vegetables, served with spicy dipping sauce.\\nIngredients: Flour (for wrapper), cabbage, carrots, onions, spices.\\nVegetable Samosa ($2.49)\\nDescription: Crispy fried pastry filled with a spiced mixture of potatoes and peas.\\nIngredients: Potatoes, peas, flour, cumin, coriander, spices.\\nManchurian ($7.99)\\nDescription: Crispy vegetable balls tossed in a savory and spicy Indo-Chinese sauce.\\nIngredients: Cabbage, carrots, bell pepper, soy sauce, garlic, flour.\\nIce Cream ($3.49)\\nDescription: Creamy and rich ice cream available in various flavors like vanilla, chocolate, and strawberry.\\nIngredients: Milk, cream, sugar, flavoring.\\nMojito ($4.99)\\nDescription: A refreshing mint and lime cocktail (non-alcoholic) perfect for cooling down.\\nIngredients: Mint leaves, lime, sugar, soda water.\\nFrench Fries ($2.99)\\nDescription: Crispy, golden fries, lightly salted and perfect for snacking.\\nIngredients: Potatoes, oil, salt.\\nHam Sandwich ($5.49)\\nDescription: Sliced ham served with lettuce, tomato, and cheese in a sandwich.\\nIngredients: Ham, lettuce, tomato, cheese, sandwich bread, mayonnaise.')]"
      ]
     },
     "execution_count": 66,
     "metadata": {},
     "output_type": "execute_result"
    }
   ],
   "source": [
    "documents"
   ]
  },
  {
   "cell_type": "code",
   "execution_count": 67,
   "metadata": {},
   "outputs": [],
   "source": [
    "text_splitter = RecursiveCharacterTextSplitter(chunk_size=300, chunk_overlap=50)\n",
    "splits = text_splitter.split_documents(documents)        "
   ]
  },
  {
   "cell_type": "code",
   "execution_count": 68,
   "metadata": {},
   "outputs": [
    {
     "data": {
      "text/plain": [
       "[Document(metadata={'source': 'food.txt'}, page_content='Here are the names of the food items of our restaurant:\\nPepperoni Pizza ($12.99)\\nDescription: A classic Italian pizza topped with tomato sauce, mozzarella cheese, and generous slices of pepperoni.\\nIngredients: Tomato sauce, mozzarella cheese, pepperoni, olive oil, basil.\\nClassic Burger ($8.49)'),\n",
       " Document(metadata={'source': 'food.txt'}, page_content='Classic Burger ($8.49)\\nDescription: Juicy Potato patty served with fresh lettuce, tomato, onions, and pickles in a soft bun.\\nIngredients: Potato patty, lettuce, tomato, onion, pickles, burger bun, cheese (optional).\\nDosa ($5.99)'),\n",
       " Document(metadata={'source': 'food.txt'}, page_content='Dosa ($5.99)\\nDescription: A thin, crispy South Indian crepe made from rice and lentils, served with coconut chutney and sambar.\\nIngredients: Rice, urad dal (black gram), fenugreek, oil.\\nPav Bhaji ($6.49)'),\n",
       " Document(metadata={'source': 'food.txt'}, page_content='Pav Bhaji ($6.49)\\nDescription: A spicy and flavorful mashed vegetable curry served with buttered bread rolls. A popular Indian street food.\\nIngredients: Mixed vegetables, tomatoes, onions, butter, spices, pav bread.\\nVada Pav ($3.99)'),\n",
       " Document(metadata={'source': 'food.txt'}, page_content='Vada Pav ($3.99)\\nDescription: A spicy potato fritter sandwiched in a bread roll with chutneys. Known as the Indian burger.\\nIngredients: Potatoes, green chilies, garlic, gram flour, pav bread, chutney.\\nVeg Momos ($4.99)'),\n",
       " Document(metadata={'source': 'food.txt'}, page_content='Veg Momos ($4.99)\\nDescription: Steamed dumplings filled with mixed vegetables, served with spicy dipping sauce.\\nIngredients: Flour (for wrapper), cabbage, carrots, onions, spices.\\nVegetable Samosa ($2.49)\\nDescription: Crispy fried pastry filled with a spiced mixture of potatoes and peas.'),\n",
       " Document(metadata={'source': 'food.txt'}, page_content='Ingredients: Potatoes, peas, flour, cumin, coriander, spices.\\nManchurian ($7.99)\\nDescription: Crispy vegetable balls tossed in a savory and spicy Indo-Chinese sauce.\\nIngredients: Cabbage, carrots, bell pepper, soy sauce, garlic, flour.\\nIce Cream ($3.49)'),\n",
       " Document(metadata={'source': 'food.txt'}, page_content='Ice Cream ($3.49)\\nDescription: Creamy and rich ice cream available in various flavors like vanilla, chocolate, and strawberry.\\nIngredients: Milk, cream, sugar, flavoring.\\nMojito ($4.99)\\nDescription: A refreshing mint and lime cocktail (non-alcoholic) perfect for cooling down.'),\n",
       " Document(metadata={'source': 'food.txt'}, page_content='Ingredients: Mint leaves, lime, sugar, soda water.\\nFrench Fries ($2.99)\\nDescription: Crispy, golden fries, lightly salted and perfect for snacking.\\nIngredients: Potatoes, oil, salt.\\nHam Sandwich ($5.49)\\nDescription: Sliced ham served with lettuce, tomato, and cheese in a sandwich.'),\n",
       " Document(metadata={'source': 'food.txt'}, page_content='Ingredients: Ham, lettuce, tomato, cheese, sandwich bread, mayonnaise.')]"
      ]
     },
     "execution_count": 68,
     "metadata": {},
     "output_type": "execute_result"
    }
   ],
   "source": [
    "splits"
   ]
  },
  {
   "cell_type": "code",
   "execution_count": 69,
   "metadata": {},
   "outputs": [
    {
     "data": {
      "text/plain": [
       "10"
      ]
     },
     "execution_count": 69,
     "metadata": {},
     "output_type": "execute_result"
    }
   ],
   "source": [
    "len(splits)"
   ]
  },
  {
   "cell_type": "code",
   "execution_count": 70,
   "metadata": {},
   "outputs": [],
   "source": [
    "# ChromaDB \n",
    "\n",
    "embedding = HuggingFaceEmbeddings(model_name=\"all-MiniLM-L6-v2\")\n",
    "vectors = Chroma.from_documents(documents=splits, embedding=embedding, persist_directory=\"./chorma\")"
   ]
  },
  {
   "cell_type": "code",
   "execution_count": 71,
   "metadata": {},
   "outputs": [],
   "source": [
    "# Retriver\n",
    "\n",
    "retriever = vectors.as_retriever(kwargs=3)"
   ]
  },
  {
   "cell_type": "code",
   "execution_count": 72,
   "metadata": {},
   "outputs": [],
   "source": [
    "llm = ChatGroq(model_name=\"Gemma2-9b-It\")"
   ]
  },
  {
   "cell_type": "code",
   "execution_count": 73,
   "metadata": {},
   "outputs": [],
   "source": [
    "contextualize_s_prompt = (\"Imagine you are a skilled conversation partner. Given the ongoing chat history and the most recent user question, your task is to craft a clear, standalone question that can be understood without needing any prior context. Please do not provide an answer; simply reformulate the question if necessary, or return it as is, ensuring it remains concise and relevant.\")"
   ]
  },
  {
   "cell_type": "code",
   "execution_count": 74,
   "metadata": {},
   "outputs": [],
   "source": [
    "contextualize_q_prompt = ChatPromptTemplate.from_messages(\n",
    "    [\n",
    "        (\"system\", contextualize_s_prompt),\n",
    "        MessagesPlaceholder(\"chat_hist\"),\n",
    "        (\"human\", \"{input}\"),\n",
    "    ]\n",
    ")"
   ]
  },
  {
   "cell_type": "code",
   "execution_count": 75,
   "metadata": {},
   "outputs": [],
   "source": [
    "history_aware_retriever = create_history_aware_retriever(llm, retriever, contextualize_q_prompt)"
   ]
  },
  {
   "cell_type": "code",
   "execution_count": 76,
   "metadata": {},
   "outputs": [],
   "source": [
    "s_prompt = (\"\"\"\n",
    "You are a food ordering assistant. Help users with their orders by understanding their requests and responding clearly. Focus on the following tasks:\n",
    "Greet users and offer assistance.\n",
    "Help them add, remove, or complete their orders.\n",
    "Provide order status updates.\n",
    "Address menu inquiries and item availability.\n",
    "{context}\n",
    "\"\"\")"
   ]
  },
  {
   "cell_type": "code",
   "execution_count": 77,
   "metadata": {},
   "outputs": [],
   "source": [
    "qa_prompt = ChatPromptTemplate.from_messages(\n",
    "    [\n",
    "        (\"system\", s_prompt),\n",
    "        MessagesPlaceholder(\"chat_hist\"), \n",
    "        (\"human\", \"{input}\"),   \n",
    "    ]\n",
    ")"
   ]
  },
  {
   "cell_type": "code",
   "execution_count": 78,
   "metadata": {},
   "outputs": [],
   "source": [
    "question_answer_chain = create_stuff_documents_chain(llm, qa_prompt)"
   ]
  },
  {
   "cell_type": "code",
   "execution_count": 79,
   "metadata": {},
   "outputs": [],
   "source": [
    "rag_chain = create_retrieval_chain(history_aware_retriever, question_answer_chain)"
   ]
  },
  {
   "cell_type": "code",
   "execution_count": 95,
   "metadata": {},
   "outputs": [],
   "source": [
    "session_store = {}\n",
    "\n",
    "def get_session_history(session_id: str) -> BaseChatMessageHistory:\n",
    "    if session_id not in session_store:\n",
    "        session_store[session_id] = ChatMessageHistory() \n",
    "\n",
    "    return session_store[session_id]"
   ]
  },
  {
   "cell_type": "code",
   "execution_count": 96,
   "metadata": {},
   "outputs": [],
   "source": [
    "conversational_rag_chain = RunnableWithMessageHistory(\n",
    "    rag_chain,\n",
    "    get_session_history=get_session_history,\n",
    "    input_messages_key=\"input\",\n",
    "    history_messages_key=\"chat_hist\",\n",
    "    output_messages_key=\"answer\"\n",
    ")"
   ]
  },
  {
   "cell_type": "code",
   "execution_count": 99,
   "metadata": {},
   "outputs": [],
   "source": [
    "def ask_question(question: str, session_id: str = \"default\"):\n",
    "    response = conversational_rag_chain.invoke(\n",
    "        {\n",
    "            \"input\": question\n",
    "        },\n",
    "        config = {\n",
    "            \"configurable\": {\"session_id\": session_id}\n",
    "        },\n",
    "    )\n",
    "    \n",
    "    return response"
   ]
  },
  {
   "cell_type": "code",
   "execution_count": 101,
   "metadata": {},
   "outputs": [
    {
     "data": {
      "text/plain": [
       "{'input': 'Hi',\n",
       " 'chat_hist': [HumanMessage(content='Hi', additional_kwargs={}, response_metadata={}),\n",
       "  AIMessage(content='Hello! Welcome to our food ordering service. What can I get for you today? 😊  \\n\\n', additional_kwargs={}, response_metadata={})],\n",
       " 'context': [Document(metadata={'source': 'food.txt'}, page_content='Pav Bhaji ($6.49)\\nDescription: A spicy and flavorful mashed vegetable curry served with buttered bread rolls. A popular Indian street food.\\nIngredients: Mixed vegetables, tomatoes, onions, butter, spices, pav bread.\\nVada Pav ($3.99)'),\n",
       "  Document(metadata={'source': 'food.txt'}, page_content='Dosa ($5.99)\\nDescription: A thin, crispy South Indian crepe made from rice and lentils, served with coconut chutney and sambar.\\nIngredients: Rice, urad dal (black gram), fenugreek, oil.\\nPav Bhaji ($6.49)'),\n",
       "  Document(metadata={'source': 'food.txt'}, page_content='Vada Pav ($3.99)\\nDescription: A spicy potato fritter sandwiched in a bread roll with chutneys. Known as the Indian burger.\\nIngredients: Potatoes, green chilies, garlic, gram flour, pav bread, chutney.\\nVeg Momos ($4.99)'),\n",
       "  Document(metadata={'source': 'food.txt'}, page_content='Classic Burger ($8.49)\\nDescription: Juicy Potato patty served with fresh lettuce, tomato, onions, and pickles in a soft bun.\\nIngredients: Potato patty, lettuce, tomato, onion, pickles, burger bun, cheese (optional).\\nDosa ($5.99)')],\n",
       " 'answer': 'Hello! Welcome to our food ordering service. What can I get for you today? 😊  \\n'}"
      ]
     },
     "execution_count": 101,
     "metadata": {},
     "output_type": "execute_result"
    }
   ],
   "source": [
    "ask_question(\"Hi\")"
   ]
  }
 ],
 "metadata": {
  "kernelspec": {
   "display_name": ".venv",
   "language": "python",
   "name": "python3"
  },
  "language_info": {
   "codemirror_mode": {
    "name": "ipython",
    "version": 3
   },
   "file_extension": ".py",
   "mimetype": "text/x-python",
   "name": "python",
   "nbconvert_exporter": "python",
   "pygments_lexer": "ipython3",
   "version": "3.12.7"
  }
 },
 "nbformat": 4,
 "nbformat_minor": 2
}
